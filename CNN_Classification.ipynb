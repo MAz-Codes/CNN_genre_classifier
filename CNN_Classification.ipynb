{
 "cells": [
  {
   "cell_type": "code",
   "execution_count": null,
   "metadata": {},
   "outputs": [],
   "source": [
    "import numpy as np\n",
    "import json\n",
    "from sklearn.model_selection import train_test_split\n",
    "\n",
    "DATA_PATH = \"data.json\"\n",
    "\n",
    "\n",
    "def load_data(data_path):\n",
    "    \"\"\"Loads training dataset from json file.\n",
    "\n",
    "        :param data_path (str): Path to json file containing data\n",
    "        :return X (ndarray): Inputs\n",
    "        :return y (ndarray): Targets\n",
    "    \"\"\"\n",
    "\n",
    "    with open(data_path, \"r\") as fp:\n",
    "        data = json.load(fp)\n",
    "\n",
    "    X = np.array(data[\"mfcc\"])\n",
    "    y = np.array(data[\"labels\"])\n",
    "    return X, y\n",
    "\n",
    "def prepare_datasets(test_size, validation_size):\n",
    "\n",
    "    #load the data from the json we already created\n",
    "    X, y = load_data(DATA_PATH)\n",
    "\n",
    "    #create the train/test split using the function from sklearn\n",
    "    X_train, X_test, y_train, y_test = train_test_split(X,y, test_size=test_size)\n",
    "\n",
    "    #create the train/validation split\n",
    "    X_train, X_validation, y_train, y_validation = train_test_split (X_train,,y_train, test_size= validation_size)\n",
    "\n",
    "if __name__ == \"__main__\":\n",
    "\n",
    "    #create the train, validation and test sets\n",
    "    X_train, X_validation, X_test, y_train, y_validation, y_test = prepare_datasets(0.25, 0.2)"
   ]
  }
 ],
 "metadata": {
  "language_info": {
   "name": "python"
  },
  "orig_nbformat": 4
 },
 "nbformat": 4,
 "nbformat_minor": 2
}
